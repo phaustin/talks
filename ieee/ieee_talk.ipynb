{
 "cells": [
  {
   "cell_type": "markdown",
   "metadata": {
    "slideshow": {
     "slide_type": "slide"
    }
   },
   "source": [
    "<img src=\"ieee_frontpage.png\" />"
   ]
  },
  {
   "cell_type": "markdown",
   "metadata": {
    "slideshow": {
     "slide_type": "slide"
    }
   },
   "source": [
    "# Nature vs. nurture in LES analyses of cumulus convection\n",
    "\n",
    "**Phil Austin**  \n",
    "**Department of Earth, Ocean and Atmospheric Sciences**  \n",
    "**University of British Columbia**  \n",
    "\n",
    "\n",
    "<img src=\"classified_clouds.png\" />"
   ]
  },
  {
   "cell_type": "markdown",
   "metadata": {
    "slideshow": {
     "slide_type": "slide"
    }
   },
   "source": [
    "# Small and large clouds are nonlinearly coupled via the Hadley circulation\n",
    "\n",
    "<img src=\"hadley_cell.png\" width=\"80%\" />"
   ]
  },
  {
   "cell_type": "markdown",
   "metadata": {
    "slideshow": {
     "slide_type": "slide"
    }
   },
   "source": [
    "# and for comparison -- the real thing\n",
    "\n",
    "<img src=\"photo_cumulus.png\" height=\"60%\"/>"
   ]
  },
  {
   "cell_type": "markdown",
   "metadata": {
    "slideshow": {
     "slide_type": "slide"
    }
   },
   "source": [
    "# Our LES\n",
    "\n",
    "1) Surface tracer flux with a 15 minute exponential decay lifetime\n",
    "\n",
    "2) Explicit calculation of mass exchange between cloud and environment\n",
    "\n",
    "<img src=\"classified_clouds.png\" />"
   ]
  },
  {
   "cell_type": "markdown",
   "metadata": {
    "slideshow": {
     "slide_type": "slide"
    }
   },
   "source": [
    "# An entrainment field snapshot for an individual cloud\n",
    "\n",
    "<img src=\"romps_vs_dawe_snapshot.png\" width=\"60%\"/>"
   ]
  },
  {
   "cell_type": "markdown",
   "metadata": {
    "slideshow": {
     "slide_type": "slide"
    }
   },
   "source": [
    "# Lifetime timeseries for a tracked cloud\n",
    "\n",
    "<img src=\"long_lifetime_history.png\"  width=\"70%\"/>"
   ]
  },
  {
   "cell_type": "markdown",
   "metadata": {
    "slideshow": {
     "slide_type": "slide"
    }
   },
   "source": [
    "# Some case studies:\n",
    "\n",
    "1) [Daytime boundary layer over land](https://drive.google.com/file/d/1Qwioo3qSyEzr4tTuC3Sx54oXLKg-3g3D/view?usp=sharing)\n",
    "\n",
    "2) [Precipitating trade cumulus](https://drive.google.com/open?id=14ZLSAHCrjv8U0IKD9sQMHdql33Ebxkp3)\n",
    "\n",
    "3) Tropical convection: 86 km x 86 km x 25 km with 50 meter resolution  \n",
    "\n",
    "<img src=\"loren_gate.png\" />"
   ]
  },
  {
   "cell_type": "markdown",
   "metadata": {
    "slideshow": {
     "slide_type": "slide"
    }
   },
   "source": [
    "# Single column GCM versions diverge on shallow convection\n",
    "\n",
    "<img src=\"single_column.png\" width=\"50%\"/>"
   ]
  },
  {
   "cell_type": "markdown",
   "metadata": {
    "slideshow": {
     "slide_type": "slide"
    }
   },
   "source": [
    "<img src=\"zhang_cartoon.png\" width=\"50%\"/>"
   ]
  },
  {
   "cell_type": "markdown",
   "metadata": {
    "slideshow": {
     "slide_type": "slide"
    }
   },
   "source": [
    "# Entrainment vs. environmental conditions\n",
    "\n",
    "<img src=\"entrainment_matrix.png\" width=\"70%\"/>"
   ]
  },
  {
   "cell_type": "markdown",
   "metadata": {
    "slideshow": {
     "slide_type": "slide"
    }
   },
   "source": [
    "# Informing parameterizations\n",
    "\n",
    "<img src=\"core_median_entrainment.png\" />"
   ]
  },
  {
   "cell_type": "markdown",
   "metadata": {
    "slideshow": {
     "slide_type": "slide"
    }
   },
   "source": [
    "## Useful interactive visualization\n",
    "\n",
    "### Map phase space (environmental properties) to cloud fields (brushing?)\n",
    "\n",
    "### Challenges\n",
    "\n",
    "####  * Responsive\n",
    "\n",
    "#### * Simple UI\n",
    "\n",
    "#### * Install using conda-forge\n",
    "\n",
    "#### * Commercial - cloud capable\n",
    "\n",
    "\n",
    "## References\n",
    "\n",
    "[Dawe and Austin, MWR, 2010](https://drive.google.com/open?id=11KEQTJ3-dxWij_oH9aEtbuAzKzEW3c7v)  \n",
    "[Dawe and Austin, J. Atmos. Sci., 2011](https://drive.google.com/open?id=1KSa68c-D65t8y1Dv4eUMz7WE8NA73yLQ)  \n",
    "[Dawe and Austin, Atmos. Chem. Phys., 2012](https://drive.google.com/open?id=154N79FKXN-Km4e4Tt5gv19XdyU7FKnAD)    \n",
    "[Dawe and Austin, Atmos. Chem. Phys., 2013](https://drive.google.com/open?id=1ObBPF2mM7CeAm0yBiBSw1Ssk6V7q47-G)  \n",
    "[Khairoutdinov and Randall, J. Atmos. Sci., 2003](https://journals.ametsoc.org/doi/full/10.1175/1520-0469%282003%29060%3C0607%3ACRMOTA%3E2.0.CO%3B2)  \n",
    "[Zhang et. al., JAMES, 2013](https://drive.google.com/open?id=1cve5NUoUuF3a-W_9wXGXB87Q_qhllsIG)"
   ]
  },
  {
   "cell_type": "code",
   "execution_count": null,
   "metadata": {},
   "outputs": [],
   "source": []
  }
 ],
 "metadata": {
  "celltoolbar": "Slideshow",
  "jupytext": {
   "cell_metadata_filter": "all",
   "notebook_metadata_filter": "all,-language_info",
   "text_representation": {
    "extension": ".py",
    "format_name": "percent",
    "format_version": "1.2",
    "jupytext_version": "1.2.4"
   }
  },
  "kernelspec": {
   "display_name": "Python 3",
   "language": "python",
   "name": "python3"
  },
  "language_info": {
   "codemirror_mode": {
    "name": "ipython",
    "version": 3
   },
   "file_extension": ".py",
   "mimetype": "text/x-python",
   "name": "python",
   "nbconvert_exporter": "python",
   "pygments_lexer": "ipython3",
   "version": "3.7.3"
  },
  "latex_envs": {
   "LaTeX_envs_menu_present": true,
   "autoclose": false,
   "autocomplete": true,
   "bibliofile": "biblio.bib",
   "cite_by": "apalike",
   "current_citInitial": 1,
   "eqLabelWithNumbers": true,
   "eqNumInitial": 1,
   "hotkeys": {
    "equation": "meta-9"
   },
   "labels_anchors": false,
   "latex_user_defs": false,
   "report_style_numbering": false,
   "user_envs_cfg": false
  },
  "toc": {
   "base_numbering": 1,
   "nav_menu": {},
   "number_sections": false,
   "sideBar": false,
   "skip_h1_title": false,
   "title_cell": "Table of Contents",
   "title_sidebar": "Contents",
   "toc_cell": false,
   "toc_position": {},
   "toc_section_display": false,
   "toc_window_display": false
  }
 },
 "nbformat": 4,
 "nbformat_minor": 2
}
