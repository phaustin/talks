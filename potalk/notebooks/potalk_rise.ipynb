{
 "cells": [
  {
   "cell_type": "markdown",
   "metadata": {
    "slideshow": {
     "slide_type": "slide"
    }
   },
   "source": [
    "\n",
    "# What I wish I'd known about statistics\n",
    "\n",
    "## Phil Austin, Earth, Ocean and Atmospheric Sciences, UBC\n",
    "\n",
    "###  Use the spacebar on your keyboard to advance through all the slides in this talk.  The escape key shows thumbnails, type ? for other options."
   ]
  },
  {
   "cell_type": "code",
   "execution_count": 1,
   "metadata": {},
   "outputs": [],
   "source": [
    "#!mamba install pymc3 -y"
   ]
  },
  {
   "cell_type": "markdown",
   "metadata": {
    "slideshow": {
     "slide_type": "slide"
    }
   },
   "source": [
    "## In the beginning, there was ANOVA  ([Austin et al., 1985](https://www.dropbox.com/s/nrzbf4x4cnasg35/austin_85_variability.pdf?dl=0) )\n",
    "\n",
    "<img src=\"images/jas_1985.png\" width=\"50%\">\n",
    "\n"
   ]
  },
  {
   "cell_type": "markdown",
   "metadata": {
    "slideshow": {
     "slide_type": "slide"
    }
   },
   "source": [
    "## I had some issues writing the appendix\n",
    "\n",
    "<img src=\"images/snipped_anova_jas.png\" width=\"50%\">\n",
    "\n",
    "\n",
    "\n"
   ]
  },
  {
   "cell_type": "markdown",
   "metadata": {
    "slideshow": {
     "slide_type": "subslide"
    }
   },
   "source": [
    "## Basically, I didn't have the tools to proceed beyond naive ANOVA\n",
    "\n",
    "<img src=\"images/snipped_appendix_jas.png\" width=\"30%\">\n",
    "\n",
    "But it didn't stop me from teaching statistics to geography students using [Freedman, Pisani and Purves](https://www.amazon.com/Statistics-Fourth-David-Freedman-ebook/dp/B00SLB5Q72#customerReviews)."
   ]
  },
  {
   "cell_type": "markdown",
   "metadata": {
    "slideshow": {
     "slide_type": "slide"
    }
   },
   "source": [
    "Lesson learned:  teaching statistics is hard.\n",
    "\n",
    "Luckily,[I had company](https://statmodeling.stat.columbia.edu/2016/01/04/plausibility-vs-probability-prior-distributions-garden-forking-paths/) -- (also see [this](https://www.tandfonline.com/doi/full/10.1080/00031305.2018.1518264) [and this](https://www.tandfonline.com/doi/full/10.1080/00031305.2018.1447512) )"
   ]
  },
  {
   "cell_type": "markdown",
   "metadata": {
    "slideshow": {
     "slide_type": "slide"
    }
   },
   "source": [
    "## Probability is a subtle concept\n",
    "\n",
    "Money quote:  \"I must premiss that we, all of us, use this word [\"probability\"] with a degree of laxity which corrupts and rots our reasoning to a degree that very few of us are at all awake to.\" [Charles S. Pierce, 1910](https://philpapers.org/rec/BURIUW)\n",
    "\n",
    "[Fermat-Pascal letters (1654)](https://www.aps.org/publications/apsnews/200907/physicshistory.cfm)\n",
    "\n",
    "[Laplace and Bayes (1754)](https://www.lesswrong.com/posts/RTt59BtFLqQbsSiqd/a-history-of-bayes-theorem)"
   ]
  },
  {
   "cell_type": "markdown",
   "metadata": {
    "slideshow": {
     "slide_type": "slide"
    }
   },
   "source": [
    "[Kolmogorov Axioms (1933)](https://plato.stanford.edu/entries/probability-interpret/#KolProCal): \n",
    "\n",
    "i)  0 ≤ p(E) ≤ 1.  \n",
    "\n",
    "ii) the certain event has probability 1  \n",
    "\n",
    "iii) The probability of the union of mutually exclusive events is the sum of the probabilities of the individual events.    "
   ]
  },
  {
   "cell_type": "markdown",
   "metadata": {
    "slideshow": {
     "slide_type": "slide"
    }
   },
   "source": [
    "All of these interpretations are consistent with these axioms: \n",
    "\n",
    "<ul>\n",
    "\n",
    " <li><a href=\"https://plato.stanford.edu/entries/probability-interpret/#ClaPro\">3.1 Classical Probability</a></li>\n",
    " \n",
    " <li><a href=\"https://plato.stanford.edu/entries/probability-interpret/#LogPro\">3.2 Logical/Evidential Probability</a></li>\n",
    " \n",
    " <li><a href=\"https://plato.stanford.edu/entries/probability-interpret/#SubPro\">3.3 Subjective Probability</a></li>\n",
    " \n",
    " <li><a href=\"https://plato.stanford.edu/entries/probability-interpret/#FreInt\">3.4 Frequency Interpretations</a></li>\n",
    " \n",
    " <li><a href=\"https://plato.stanford.edu/entries/probability-interpret/#ProInt\">3.5 Propensity Interpretations</a></li>\n",
    " \n",
    " <li><a href=\"https://plato.stanford.edu/entries/probability-interpret/#BesSysInt\">3.6 Best-System Interpretations</a></li>\n",
    " </ul></li>\n",
    "\n",
    " <li><a href=\"https://plato.stanford.edu/entries/probability-interpret/#ConFutPro\">4. Conclusion: Future Prospects?</a>\n",
    " \n",
    "<ul>"
   ]
  },
  {
   "cell_type": "markdown",
   "metadata": {
    "slideshow": {
     "slide_type": "slide"
    }
   },
   "source": [
    "## [Frank Harrell on Bayes](https://www.fharrell.com/post/journey/)\n",
    "\n",
    "If you tossed a coin 100 times resulting in 60 heads, would you rather know the probability of getting > 59 heads out of 100 tosses if the coin happened to be fair, or the probability it is fair given exactly 60 heads? The frequentist approach is alluring because of the minimal work in carrying out a test of the null hypothesis θ=½. But the Bayesian approach provides a direct answer to the second question, and requires you to think. What is an “unfair” coin? Is it θ outside of [0.49, 0.51]? What is the world view of coins, e.g., is someone likely to provide a coin that is easily detectable as unfair because its θ=0.6? Was the coin chosen at random or handed to us?\n",
    "\n"
   ]
  },
  {
   "cell_type": "markdown",
   "metadata": {
    "slideshow": {
     "slide_type": "slide"
    }
   },
   "source": [
    "and for the [correlation coefficient](https://baezortega.github.io/2018/05/28/robust-correlation/) the statements would be something like:\n",
    "\n",
    "**Bayes**: According to the model, the correlation coefficient is between -0.83 and -0.98 with 99% probability\n",
    "\n",
    "**Frequentist**: According to the test, we are 95% confident that the correlation coefficient has a value somewhere between -0.51 and -0.99; we don’t really know if this interval contains the value, but if we could repeat this analysis on infinite different samples, we would be wrong just 5% of the time!"
   ]
  },
  {
   "cell_type": "markdown",
   "metadata": {
    "slideshow": {
     "slide_type": "slide"
    }
   },
   "source": [
    "## What about probability of precipitation?\n",
    "\n",
    "* [UK Met. Office forecaster guidance (pdf p. 141)](https://www.weather.gov/media/zhu/ZHU_Training_Page/Met_Tutorials/Forecasters_Reference_Book_1997.pdf)\n",
    "\n",
    "**11.1.1 Interpretation of probabilities**\n",
    "\n",
    "Probabilities can be interpreted in two ways:\n",
    "\n",
    "(i) Relative frequency interpretation.\n",
    "\n",
    "(ii) Subjective interpretation.\n",
    "\n"
   ]
  },
  {
   "cell_type": "markdown",
   "metadata": {
    "slideshow": {
     "slide_type": "subslide"
    }
   },
   "source": [
    "UK Met. Office continued:\n",
    "\n",
    "Thus consider a 'probability of precipitation (PoP) forecast of 30%':\n",
    "\n",
    "(i) Relative interpretation: the present meteorological situation, observed on a large number\n",
    "    of occasions, would give rise to precipitation on 30% of the time.\n",
    "\n",
    "(ii) Subjective interpretation: the forecaster's judgment is that the odds against\n",
    "     precipitation are 7 to 3 (odds against no precipitation being 3 to 7). Generally, if p is the\n",
    "     probability, the odds against the event are: (1/p - 1) to 1.  (Ed. note -- see [hartleys and decibans](https://en.wikipedia.org/wiki/Hartley_(unit) ) )\n",
    "     \n",
    "(iii) The subjective interpretation gives a practical way of thinking about probabilities.\n",
    "\n",
    "**So what's a graduate student to do?**"
   ]
  },
  {
   "cell_type": "markdown",
   "metadata": {
    "slideshow": {
     "slide_type": "slide"
    }
   },
   "source": [
    "## Case study: linear regression two ways\n",
    "\n",
    "### Frequentist first, following [Hogg et al., 2010](https://arxiv.org/abs/1008.4686)\n",
    "\n",
    "\"It is a miracle with which we hope everyone reading this is familiar that if you have a set of two-dimensional points (x, y) that depart from a perfect, narrow, straight line y = m x + b only by the addition of Gaussian distributed noise of known amplitudes in the y direction only, then the maximum-likelihood or best-fit line for the points has a slope m and intercept b that can be obtained justifiably by a perfectly linear matrix-algebra operation known as “weighted linear least-square fitting”. This miracle deserves contemplation.\"\n"
   ]
  },
  {
   "cell_type": "markdown",
   "metadata": {
    "slideshow": {
     "slide_type": "slide"
    }
   },
   "source": [
    "## The math, following: [Fleshman, 2019](https://towardsdatascience.com/linear-regression-91eeae7d6a2e)\n",
    "\n",
    "\n",
    "The generating process:\n",
    "\n",
    "$$\n",
    "y = \\theta_1 x + \\theta_0 + \\epsilon\n",
    "$$\n",
    "where $\\epsilon$ is normally distributed with mean $\\mu=0$ and standard deviation $\\sigma$.\n",
    "\n",
    "This means that the conditional (frequentist) probability that we make an observation $y$ given $x$ is to:\n",
    "\n",
    "$$\n",
    "p\\left(y | x ; \\theta_{0}, \\theta_{1}, \\sigma^{2}\\right)=\\frac{1}{\\sqrt{2 \\pi \\sigma^{2}}} e^{\\frac{-\\left(y-(\\theta_{1} x + \\theta_{0})\\right)^{2}}{2 \\sigma^{2}}}\n",
    "$$\n",
    "\n",
    "Since the data points are assumed to be independent, their probabilities multiply, and we define the **likelihood** of observing the data given the parameters $(\\theta_0,\\theta_1,\\sigma)$ as:\n",
    "$$\n",
    "L_{X}\\left(\\theta_{0}, \\theta_{1}, \\sigma^{2}\\right)=\\frac{1}{\\sqrt{2 \\pi \\sigma^{2}}} \\prod_{(x, y) \\in X} e^{\\frac{-\\left(y-(\\theta_{1} x +\\theta_{0})\\right)^{2}}{2 \\sigma^{2}}}\n",
    "$$"
   ]
  },
  {
   "cell_type": "markdown",
   "metadata": {
    "slideshow": {
     "slide_type": "slide"
    }
   },
   "source": [
    "## Maximum likelihood\n",
    "\n",
    "Solve this for the set of parameters that give the **maximum likelihood** by taking the $\\log$ and finding the maximum by setting the derivative = 0 and solving for $(\\theta_0, \\theta_1)$.  This gives you the usual relationship for the slope and intercept in terms of the data statistics ($\\overline{x}$,$\\overline{y}$).  Note that we don't need to know $\\sigma$, because we're assuming it's constant.\n",
    "\n",
    "$$\n",
    "l_{X}\\left(\\theta_{0}, \\theta_{1}, \\sigma^{2}\\right)=\\log \\left[\\frac{1}{\\sqrt{2 \\pi \\sigma^{2}}} \\prod_{(x, y) \\in X} e^{\\frac{-\\left(y-\\left(\\theta_{1} x+\\theta_{0}\\right)\\right)^{2}}{2 \\sigma^{2}}}\\right]\n",
    "$$\n",
    "\n",
    "$$\n",
    "=-\\log (\\sqrt{2 \\pi \\sigma^{2}})-\\frac{1}{2 \\sigma^{2}} \\sum_{(x, y) \\in X}\\left[y-\\left(\\theta_{1} x+\\theta_{0}\\right)\\right]^{2}\n",
    "$$\n",
    "$$\n",
    "\\hat{y}=\\theta_{1} x+\\theta_{0}\n",
    "$$\n",
    "\n",
    "$$\n",
    "\\theta_{0}=\\overline{y}-\\theta_{1} \\overline{x}\n",
    "$$\n",
    "$$\n",
    "\\theta_{1}=\\frac{\\sum_{i}^{n}\\left(x_{i}-\\overline{x}\\right)\\left(y_{i}-\\overline{y}\\right)}{\\sum_{i}^{n}\\left(x_{i}-\\overline{x}\\right)^{2}}\n",
    "$$"
   ]
  },
  {
   "cell_type": "markdown",
   "metadata": {
    "slideshow": {
     "slide_type": "slide"
    }
   },
   "source": [
    "## Code this up\n",
    "\n",
    "A couple of lines of python"
   ]
  },
  {
   "cell_type": "code",
   "execution_count": 2,
   "metadata": {
    "slideshow": {
     "slide_type": "subslide"
    }
   },
   "outputs": [],
   "source": [
    "import numpy as np\n",
    "from matplotlib import pyplot as plt\n",
    "import pandas as pd\n",
    "\n",
    "def find_line(xs, ys):\n",
    "    \"\"\"Calculates the slope and intercept\"\"\"\n",
    "    \n",
    "    # number of points\n",
    "    n = len(xs)\n",
    "    # calculate means\n",
    "    x_bar = sum(xs)/n\n",
    "    y_bar = sum(ys)/n\n",
    "        \n",
    "    # calculate slope\n",
    "    num = 0\n",
    "    denom = 0\n",
    "    for i in range(n):\n",
    "        num += (xs[i]-x_bar)*(ys[i]-y_bar)\n",
    "        denom += (xs[i]-x_bar)**2\n",
    "    slope = num/denom\n",
    "    \n",
    "    # calculate intercept\n",
    "    intercept = y_bar - slope*x_bar\n",
    "    \n",
    "    return slope, intercept"
   ]
  },
  {
   "cell_type": "markdown",
   "metadata": {
    "slideshow": {
     "slide_type": "slide"
    }
   },
   "source": [
    "## Use it to find $\\theta_0, \\theta_1$\n",
    "\n",
    "### First create 200 simulated measurements using the model"
   ]
  },
  {
   "cell_type": "code",
   "execution_count": 3,
   "metadata": {
    "slideshow": {
     "slide_type": "subslide"
    }
   },
   "outputs": [],
   "source": [
    "size = 200\n",
    "true_intercept = 1\n",
    "true_slope = 2\n",
    "true_sigma = 0.5\n",
    "\n",
    "x = np.linspace(0, 1, size)\n",
    "# y = a + b*x\n",
    "true_regression_line = true_intercept + true_slope * x\n",
    "# add noise\n",
    "y = true_regression_line + np.random.normal(scale=true_sigma, size=size)\n",
    "\n",
    "data = dict(x=x, y=y);"
   ]
  },
  {
   "cell_type": "markdown",
   "metadata": {
    "slideshow": {
     "slide_type": "slide"
    }
   },
   "source": [
    "## Plot the data with the true regression line"
   ]
  },
  {
   "cell_type": "code",
   "execution_count": 4,
   "metadata": {
    "slideshow": {
     "slide_type": "subslide"
    }
   },
   "outputs": [
    {
     "data": {
      "image/png": "[encoded data removed]",
      "text/plain": [
       "<Figure size 504x504 with 1 Axes>"
      ]
     },
     "metadata": {
      "needs_background": "light"
     },
     "output_type": "display_data"
    }
   ],
   "source": [
    "fig = plt.figure(figsize=(7, 7))\n",
    "ax = fig.add_subplot(111, xlabel='x', ylabel='y', title='Generated data and underlying model')\n",
    "ax.plot(x, y, 'x', label='sampled data')\n",
    "ax.plot(x, true_regression_line, label='true regression line', lw=2.)\n",
    "plt.legend(loc=0);"
   ]
  },
  {
   "cell_type": "markdown",
   "metadata": {
    "slideshow": {
     "slide_type": "slide"
    }
   },
   "source": [
    "## Compare the true and estimated (green) regression lines"
   ]
  },
  {
   "cell_type": "code",
   "execution_count": 5,
   "metadata": {
    "slideshow": {
     "slide_type": "subslide"
    }
   },
   "outputs": [
    {
     "data": {
      "image/png": "[encoded data removed]",
      "text/plain": [
       "<Figure size 504x504 with 1 Axes>"
      ]
     },
     "metadata": {},
     "output_type": "display_data"
    }
   ],
   "source": [
    "slope, intercept = find_line(x,y)\n",
    "fit_y = intercept + slope * x\n",
    "ax.plot(x, fit_y)\n",
    "display(fig)"
   ]
  },
  {
   "cell_type": "markdown",
   "metadata": {
    "slideshow": {
     "slide_type": "slide"
    }
   },
   "source": [
    "## Use bootstrap resampling to estimate confidence intervals"
   ]
  },
  {
   "cell_type": "code",
   "execution_count": 6,
   "metadata": {
    "slideshow": {
     "slide_type": "subslide"
    }
   },
   "outputs": [],
   "source": [
    "def draw_bs_pairs_linreg(x, y, size=1):\n",
    "    \"\"\"Perform pairs bootstrap for linear regression.\"\"\"\n",
    "\n",
    "    # Set up array of indices to sample from: inds\n",
    "    inds = np.arange(len(x))\n",
    "\n",
    "    # Initialize replicates: bs_slope_reps, bs_intercept_reps\n",
    "    bs_slope_reps = np.empty(size)\n",
    "    bs_intercept_reps = np.empty(size)\n",
    "\n",
    "    # Generate replicates\n",
    "    for i in range(size):\n",
    "        bs_inds = np.random.choice(inds, size=len(inds))\n",
    "        bs_x, bs_y = x[bs_inds], y[bs_inds]\n",
    "        #\n",
    "        # use np.polyfit for order 1 linear model\n",
    "        #\n",
    "        bs_slope_reps[i], bs_intercept_reps[i] = np.polyfit(bs_x, bs_y, 1)\n",
    "\n",
    "    return bs_slope_reps, bs_intercept_reps"
   ]
  },
  {
   "cell_type": "markdown",
   "metadata": {
    "slideshow": {
     "slide_type": "slide"
    }
   },
   "source": [
    "## Plot 100 different regression lines"
   ]
  },
  {
   "cell_type": "code",
   "execution_count": 7,
   "metadata": {
    "scrolled": true,
    "slideshow": {
     "slide_type": "subslide"
    }
   },
   "outputs": [
    {
     "data": {
      "image/png": "[encoded data removed]",
      "text/plain": [
       "<Figure size 504x504 with 1 Axes>"
      ]
     },
     "metadata": {},
     "output_type": "display_data"
    }
   ],
   "source": [
    "slopes, intercepts = draw_bs_pairs_linreg(x, y, size=100)\n",
    "for the_slope,the_intercept in zip(slopes,intercepts):\n",
    "    fit_y = the_intercept + the_slope * x\n",
    "    ax.plot(x, fit_y)\n",
    "display(fig)"
   ]
  },
  {
   "cell_type": "markdown",
   "metadata": {
    "slideshow": {
     "slide_type": "slide"
    }
   },
   "source": [
    "## Histogram resampled $\\theta_0$ and $\\theta_1$"
   ]
  },
  {
   "cell_type": "code",
   "execution_count": 8,
   "metadata": {
    "slideshow": {
     "slide_type": "subslide"
    }
   },
   "outputs": [
    {
     "data": {
      "image/png": "[encoded data removed]",
      "text/plain": [
       "<Figure size 864x432 with 2 Axes>"
      ]
     },
     "metadata": {
      "needs_background": "light"
     },
     "output_type": "display_data"
    }
   ],
   "source": [
    "fig, ax = plt.subplots(1,2,figsize=(12,6))\n",
    "ax[0].hist(slopes); ax[0].set_title(\"slopes\");\n",
    "ax[1].hist(intercepts);ax[1].set_title(\"intercepts\");"
   ]
  },
  {
   "cell_type": "markdown",
   "metadata": {
    "slideshow": {
     "slide_type": "slide"
    }
   },
   "source": [
    "## What's wrong with this workflow?\n",
    "\n",
    "1. No way to introduce uncertainty in x\n",
    "\n",
    "1. Unrealistically simple uncertainty in y (constant $\\sigma$)\n",
    "\n",
    "1. Can't make statements as frequentists about uncertainty in $\\theta_0, \\theta_1$\n",
    "\n",
    "1. Can't deal with outliers (robust regression)"
   ]
  },
  {
   "cell_type": "markdown",
   "metadata": {
    "slideshow": {
     "slide_type": "slide"
    }
   },
   "source": [
    "## Take 2: The Bayesian version\n",
    "\n",
    "Start with Bayes theorem, given the logical/subjective definition of probability:\n",
    "\n",
    "\\begin{align}\n",
    "\\underbrace{p(\\text{proposition} | data)}_{\\text{posterior probability}} & \\propto \n",
    "  \\underbrace{p(data | \\text{proposition} )}_{likelihood} \\times\n",
    "  \\underbrace{p(\\text{proposition})}_{\\text{prior probability}}\n",
    "\\end{align}\n",
    "\n",
    "The likelhood is exactly the same as the frequentist version:\n",
    "\n",
    "$$\n",
    "p(y | \\theta_{0}, \\theta_{1}, \\sigma^{2} ) \\propto \\left[\\frac{1}{\\sqrt{2 \\pi \\sigma^{2}}} \\prod_{(x, y) \\in X} e^{\\frac{-\\left(y-\\left(\\theta_{1} x+\\theta_{0}\\right)\\right)^{2}}{2 \\sigma^{2}}}\\right]\n",
    "$$\n",
    "\n",
    "Note that the Bayesian version makes clear that the likelihood is a function of the data for a fixed set\n",
    "of generating function parameters."
   ]
  },
  {
   "cell_type": "markdown",
   "metadata": {
    "slideshow": {
     "slide_type": "slide"
    }
   },
   "source": [
    "## What to do about $p(\\text{proposition})$ -- the prior probability\n",
    "\n",
    "1.  Take $p(\\theta_1)$ and $p(\\theta_0)$ as normally distributed with mean=0 and $\\sigma = 20$\n",
    "\n",
    "1.  Take $p(\\sigma)$ as [Halfcauchy](https://docs.pymc.io/api/distributions/continuous.html#pymc3.distributions.continuous.HalfCauchy) with $\\beta=10$\n",
    "\n",
    "1.  Again, assume independence, so prior is $p(\\theta_1) \\times p(\\theta_0) \\times p(\\sigma)$\n",
    "\n",
    "Essentially, we want to \"let the data speak\" so these are quite flat distributions that don't put any real preconditions on acceptable values for $\\theta_0, \\theta_1, \\sigma$."
   ]
  },
  {
   "cell_type": "markdown",
   "metadata": {
    "slideshow": {
     "slide_type": "subslide"
    }
   },
   "source": [
    "So Bayes rule says:\n",
    "\n",
    "$$\n",
    "p( \\theta_{0}, \\theta_{1}, \\sigma^{2} | y ) \\propto \\left[\\frac{1}{\\sqrt{2 \\pi \\sigma^{2}}} \\prod_{(x, y) \\in X} e^{\\frac{-\\left(y-\\left(\\theta_{1} x+\\theta_{0}\\right)\\right)^{2}}{2 \\sigma^{2}}}\\right] \\times p(\\theta_1) \\times p(\\theta_0) \\times p(\\sigma)\n",
    "$$\n",
    "\n",
    "and we can get, for example the pdf of $\\sigma^2$ by marginalization:\n",
    "\n",
    "$$\n",
    "p(\\sigma^{2}) \\propto \\int \\int p( \\theta_{0}, \\theta_{1}, \\sigma^{2} | y )\\, d \\theta_0 \\, d \\theta_1\n",
    "$$"
   ]
  },
  {
   "cell_type": "markdown",
   "metadata": {
    "slideshow": {
     "slide_type": "subslide"
    }
   },
   "source": [
    "## How to solve this integral?\n",
    "\n",
    "[Hamiltonian Markov Chain Montecarlo](https://arxiv.org/pdf/1206.1901.pdf)\n",
    "\n",
    "A (very) fancy version of naive Monte Carlo integration:\n",
    "\n",
    "<img src=\"images/naive_mc_integration.png\" width=\"80%\">"
   ]
  },
  {
   "cell_type": "markdown",
   "metadata": {
    "slideshow": {
     "slide_type": "slide"
    }
   },
   "source": [
    "## Code this using pymc3"
   ]
  },
  {
   "cell_type": "code",
   "execution_count": 9,
   "metadata": {
    "slideshow": {
     "slide_type": "slide"
    }
   },
   "outputs": [
    {
     "ename": "ImportError",
     "evalue": "dlopen(/Users/phil/a50037/lib/python3.7/site-packages/scipy/spatial/qhull.cpython-37m-darwin.so, 2): Library not loaded: @rpath/libopenblas.dylib\n  Referenced from: /Users/phil/a50037/lib/python3.7/site-packages/scipy/spatial/qhull.cpython-37m-darwin.so\n  Reason: image not found",
     "output_type": "error",
     "traceback": [
      "\u001b[0;31m---------------------------------------------------------------------------\u001b[0m",
      "\u001b[0;31mImportError\u001b[0m                               Traceback (most recent call last)",
      "\u001b[0;32m<ipython-input-9-556c06b21f02>\u001b[0m in \u001b[0;36m<module>\u001b[0;34m\u001b[0m\n\u001b[0;32m----> 1\u001b[0;31m \u001b[0;32mimport\u001b[0m \u001b[0mpymc3\u001b[0m \u001b[0;32mas\u001b[0m \u001b[0mpm\u001b[0m\u001b[0;34m\u001b[0m\u001b[0;34m\u001b[0m\u001b[0m\n\u001b[0m\u001b[1;32m      2\u001b[0m \u001b[0;32mwith\u001b[0m \u001b[0mpm\u001b[0m\u001b[0;34m.\u001b[0m\u001b[0mModel\u001b[0m\u001b[0;34m(\u001b[0m\u001b[0;34m)\u001b[0m \u001b[0;32mas\u001b[0m \u001b[0mmodel\u001b[0m\u001b[0;34m:\u001b[0m \u001b[0;31m# model specifications in PyMC3 are wrapped in a with-statement\u001b[0m\u001b[0;34m\u001b[0m\u001b[0;34m\u001b[0m\u001b[0m\n\u001b[1;32m      3\u001b[0m     \u001b[0;31m# Define priors\u001b[0m\u001b[0;34m\u001b[0m\u001b[0;34m\u001b[0m\u001b[0;34m\u001b[0m\u001b[0m\n\u001b[1;32m      4\u001b[0m     \u001b[0msigma\u001b[0m \u001b[0;34m=\u001b[0m \u001b[0mpm\u001b[0m\u001b[0;34m.\u001b[0m\u001b[0mHalfCauchy\u001b[0m\u001b[0;34m(\u001b[0m\u001b[0;34m'sigma'\u001b[0m\u001b[0;34m,\u001b[0m \u001b[0mbeta\u001b[0m\u001b[0;34m=\u001b[0m\u001b[0;36m10\u001b[0m\u001b[0;34m,\u001b[0m \u001b[0mtestval\u001b[0m\u001b[0;34m=\u001b[0m\u001b[0;36m1.\u001b[0m\u001b[0;34m)\u001b[0m\u001b[0;34m\u001b[0m\u001b[0;34m\u001b[0m\u001b[0m\n\u001b[1;32m      5\u001b[0m     \u001b[0mintercept\u001b[0m \u001b[0;34m=\u001b[0m \u001b[0mpm\u001b[0m\u001b[0;34m.\u001b[0m\u001b[0mNormal\u001b[0m\u001b[0;34m(\u001b[0m\u001b[0;34m'Intercept'\u001b[0m\u001b[0;34m,\u001b[0m \u001b[0;36m0\u001b[0m\u001b[0;34m,\u001b[0m \u001b[0msigma\u001b[0m\u001b[0;34m=\u001b[0m\u001b[0;36m20\u001b[0m\u001b[0;34m)\u001b[0m\u001b[0;34m\u001b[0m\u001b[0;34m\u001b[0m\u001b[0m\n",
      "\u001b[0;32m~/a50037/lib/python3.7/site-packages/pymc3/__init__.py\u001b[0m in \u001b[0;36m<module>\u001b[0;34m\u001b[0m\n\u001b[1;32m     50\u001b[0m \u001b[0m__set_compiler_flags\u001b[0m\u001b[0;34m(\u001b[0m\u001b[0;34m)\u001b[0m\u001b[0;34m\u001b[0m\u001b[0;34m\u001b[0m\u001b[0m\n\u001b[1;32m     51\u001b[0m \u001b[0;34m\u001b[0m\u001b[0m\n\u001b[0;32m---> 52\u001b[0;31m \u001b[0;32mfrom\u001b[0m \u001b[0mpymc3\u001b[0m \u001b[0;32mimport\u001b[0m \u001b[0mgp\u001b[0m\u001b[0;34m,\u001b[0m \u001b[0mode\u001b[0m\u001b[0;34m,\u001b[0m \u001b[0msampling\u001b[0m\u001b[0;34m\u001b[0m\u001b[0;34m\u001b[0m\u001b[0m\n\u001b[0m\u001b[1;32m     53\u001b[0m \u001b[0;32mfrom\u001b[0m \u001b[0mpymc3\u001b[0m\u001b[0;34m.\u001b[0m\u001b[0mbackends\u001b[0m \u001b[0;32mimport\u001b[0m \u001b[0mload_trace\u001b[0m\u001b[0;34m,\u001b[0m \u001b[0msave_trace\u001b[0m\u001b[0;34m\u001b[0m\u001b[0;34m\u001b[0m\u001b[0m\n\u001b[1;32m     54\u001b[0m \u001b[0;32mfrom\u001b[0m \u001b[0mpymc3\u001b[0m\u001b[0;34m.\u001b[0m\u001b[0mbackends\u001b[0m\u001b[0;34m.\u001b[0m\u001b[0mtracetab\u001b[0m \u001b[0;32mimport\u001b[0m \u001b[0;34m*\u001b[0m\u001b[0;34m\u001b[0m\u001b[0;34m\u001b[0m\u001b[0m\n",
      "\u001b[0;32m~/a50037/lib/python3.7/site-packages/pymc3/gp/__init__.py\u001b[0m in \u001b[0;36m<module>\u001b[0;34m\u001b[0m\n\u001b[1;32m     13\u001b[0m \u001b[0;31m#   limitations under the License.\u001b[0m\u001b[0;34m\u001b[0m\u001b[0;34m\u001b[0m\u001b[0;34m\u001b[0m\u001b[0m\n\u001b[1;32m     14\u001b[0m \u001b[0;34m\u001b[0m\u001b[0m\n\u001b[0;32m---> 15\u001b[0;31m \u001b[0;32mfrom\u001b[0m \u001b[0mpymc3\u001b[0m\u001b[0;34m.\u001b[0m\u001b[0mgp\u001b[0m \u001b[0;32mimport\u001b[0m \u001b[0mcov\u001b[0m\u001b[0;34m,\u001b[0m \u001b[0mmean\u001b[0m\u001b[0;34m,\u001b[0m \u001b[0mutil\u001b[0m\u001b[0;34m\u001b[0m\u001b[0;34m\u001b[0m\u001b[0m\n\u001b[0m\u001b[1;32m     16\u001b[0m \u001b[0;32mfrom\u001b[0m \u001b[0mpymc3\u001b[0m\u001b[0;34m.\u001b[0m\u001b[0mgp\u001b[0m\u001b[0;34m.\u001b[0m\u001b[0mgp\u001b[0m \u001b[0;32mimport\u001b[0m \u001b[0mTP\u001b[0m\u001b[0;34m,\u001b[0m \u001b[0mLatent\u001b[0m\u001b[0;34m,\u001b[0m \u001b[0mLatentKron\u001b[0m\u001b[0;34m,\u001b[0m \u001b[0mMarginal\u001b[0m\u001b[0;34m,\u001b[0m \u001b[0mMarginalKron\u001b[0m\u001b[0;34m,\u001b[0m \u001b[0mMarginalSparse\u001b[0m\u001b[0;34m\u001b[0m\u001b[0;34m\u001b[0m\u001b[0m\n",
      "\u001b[0;32m~/a50037/lib/python3.7/site-packages/pymc3/gp/util.py\u001b[0m in \u001b[0;36m<module>\u001b[0;34m\u001b[0m\n\u001b[1;32m     19\u001b[0m \u001b[0;32mimport\u001b[0m \u001b[0mtheano\u001b[0m\u001b[0;34m.\u001b[0m\u001b[0mtensor\u001b[0m\u001b[0;34m.\u001b[0m\u001b[0mslinalg\u001b[0m  \u001b[0;31m# pylint: disable=unused-import\u001b[0m\u001b[0;34m\u001b[0m\u001b[0;34m\u001b[0m\u001b[0m\n\u001b[1;32m     20\u001b[0m \u001b[0;34m\u001b[0m\u001b[0m\n\u001b[0;32m---> 21\u001b[0;31m \u001b[0;32mfrom\u001b[0m \u001b[0mscipy\u001b[0m\u001b[0;34m.\u001b[0m\u001b[0mcluster\u001b[0m\u001b[0;34m.\u001b[0m\u001b[0mvq\u001b[0m \u001b[0;32mimport\u001b[0m \u001b[0mkmeans\u001b[0m\u001b[0;34m\u001b[0m\u001b[0;34m\u001b[0m\u001b[0m\n\u001b[0m\u001b[1;32m     22\u001b[0m \u001b[0;34m\u001b[0m\u001b[0m\n\u001b[1;32m     23\u001b[0m \u001b[0mcholesky\u001b[0m \u001b[0;34m=\u001b[0m \u001b[0mtt\u001b[0m\u001b[0;34m.\u001b[0m\u001b[0mslinalg\u001b[0m\u001b[0;34m.\u001b[0m\u001b[0mcholesky\u001b[0m\u001b[0;34m\u001b[0m\u001b[0;34m\u001b[0m\u001b[0m\n",
      "\u001b[0;32m~/a50037/lib/python3.7/site-packages/scipy/cluster/__init__.py\u001b[0m in \u001b[0;36m<module>\u001b[0;34m\u001b[0m\n\u001b[1;32m     23\u001b[0m \u001b[0m__all__\u001b[0m \u001b[0;34m=\u001b[0m \u001b[0;34m[\u001b[0m\u001b[0;34m'vq'\u001b[0m\u001b[0;34m,\u001b[0m \u001b[0;34m'hierarchy'\u001b[0m\u001b[0;34m]\u001b[0m\u001b[0;34m\u001b[0m\u001b[0;34m\u001b[0m\u001b[0m\n\u001b[1;32m     24\u001b[0m \u001b[0;34m\u001b[0m\u001b[0m\n\u001b[0;32m---> 25\u001b[0;31m \u001b[0;32mfrom\u001b[0m \u001b[0;34m.\u001b[0m \u001b[0;32mimport\u001b[0m \u001b[0mvq\u001b[0m\u001b[0;34m,\u001b[0m \u001b[0mhierarchy\u001b[0m\u001b[0;34m\u001b[0m\u001b[0;34m\u001b[0m\u001b[0m\n\u001b[0m\u001b[1;32m     26\u001b[0m \u001b[0;34m\u001b[0m\u001b[0m\n\u001b[1;32m     27\u001b[0m \u001b[0;32mfrom\u001b[0m \u001b[0mscipy\u001b[0m\u001b[0;34m.\u001b[0m\u001b[0m_lib\u001b[0m\u001b[0;34m.\u001b[0m\u001b[0m_testutils\u001b[0m \u001b[0;32mimport\u001b[0m \u001b[0mPytestTester\u001b[0m\u001b[0;34m\u001b[0m\u001b[0;34m\u001b[0m\u001b[0m\n",
      "\u001b[0;32m~/a50037/lib/python3.7/site-packages/scipy/cluster/vq.py\u001b[0m in \u001b[0;36m<module>\u001b[0;34m\u001b[0m\n\u001b[1;32m     69\u001b[0m \u001b[0;32mfrom\u001b[0m \u001b[0mcollections\u001b[0m \u001b[0;32mimport\u001b[0m \u001b[0mdeque\u001b[0m\u001b[0;34m\u001b[0m\u001b[0;34m\u001b[0m\u001b[0m\n\u001b[1;32m     70\u001b[0m \u001b[0;32mfrom\u001b[0m \u001b[0mscipy\u001b[0m\u001b[0;34m.\u001b[0m\u001b[0m_lib\u001b[0m\u001b[0;34m.\u001b[0m\u001b[0m_util\u001b[0m \u001b[0;32mimport\u001b[0m \u001b[0m_asarray_validated\u001b[0m\u001b[0;34m\u001b[0m\u001b[0;34m\u001b[0m\u001b[0m\n\u001b[0;32m---> 71\u001b[0;31m \u001b[0;32mfrom\u001b[0m \u001b[0mscipy\u001b[0m\u001b[0;34m.\u001b[0m\u001b[0mspatial\u001b[0m\u001b[0;34m.\u001b[0m\u001b[0mdistance\u001b[0m \u001b[0;32mimport\u001b[0m \u001b[0mcdist\u001b[0m\u001b[0;34m\u001b[0m\u001b[0;34m\u001b[0m\u001b[0m\n\u001b[0m\u001b[1;32m     72\u001b[0m \u001b[0;34m\u001b[0m\u001b[0m\n\u001b[1;32m     73\u001b[0m \u001b[0;32mfrom\u001b[0m \u001b[0;34m.\u001b[0m \u001b[0;32mimport\u001b[0m \u001b[0m_vq\u001b[0m\u001b[0;34m\u001b[0m\u001b[0;34m\u001b[0m\u001b[0m\n",
      "\u001b[0;32m~/a50037/lib/python3.7/site-packages/scipy/spatial/__init__.py\u001b[0m in \u001b[0;36m<module>\u001b[0;34m\u001b[0m\n\u001b[1;32m     96\u001b[0m \u001b[0;32mfrom\u001b[0m \u001b[0;34m.\u001b[0m\u001b[0mkdtree\u001b[0m \u001b[0;32mimport\u001b[0m \u001b[0;34m*\u001b[0m\u001b[0;34m\u001b[0m\u001b[0;34m\u001b[0m\u001b[0m\n\u001b[1;32m     97\u001b[0m \u001b[0;32mfrom\u001b[0m \u001b[0;34m.\u001b[0m\u001b[0mckdtree\u001b[0m \u001b[0;32mimport\u001b[0m \u001b[0;34m*\u001b[0m\u001b[0;34m\u001b[0m\u001b[0;34m\u001b[0m\u001b[0m\n\u001b[0;32m---> 98\u001b[0;31m \u001b[0;32mfrom\u001b[0m \u001b[0;34m.\u001b[0m\u001b[0mqhull\u001b[0m \u001b[0;32mimport\u001b[0m \u001b[0;34m*\u001b[0m\u001b[0;34m\u001b[0m\u001b[0;34m\u001b[0m\u001b[0m\n\u001b[0m\u001b[1;32m     99\u001b[0m \u001b[0;32mfrom\u001b[0m \u001b[0;34m.\u001b[0m\u001b[0m_spherical_voronoi\u001b[0m \u001b[0;32mimport\u001b[0m \u001b[0mSphericalVoronoi\u001b[0m\u001b[0;34m\u001b[0m\u001b[0;34m\u001b[0m\u001b[0m\n\u001b[1;32m    100\u001b[0m \u001b[0;32mfrom\u001b[0m \u001b[0;34m.\u001b[0m\u001b[0m_plotutils\u001b[0m \u001b[0;32mimport\u001b[0m \u001b[0;34m*\u001b[0m\u001b[0;34m\u001b[0m\u001b[0;34m\u001b[0m\u001b[0m\n",
      "\u001b[0;31mImportError\u001b[0m: dlopen(/Users/phil/a50037/lib/python3.7/site-packages/scipy/spatial/qhull.cpython-37m-darwin.so, 2): Library not loaded: @rpath/libopenblas.dylib\n  Referenced from: /Users/phil/a50037/lib/python3.7/site-packages/scipy/spatial/qhull.cpython-37m-darwin.so\n  Reason: image not found"
     ]
    }
   ],
   "source": [
    "import pymc3 as pm\n",
    "with pm.Model() as model: # model specifications in PyMC3 are wrapped in a with-statement\n",
    "    # Define priors\n",
    "    sigma = pm.HalfCauchy('sigma', beta=10, testval=1.)\n",
    "    intercept = pm.Normal('Intercept', 0, sigma=20)\n",
    "    slope = pm.Normal('slope', 0, sigma=20)\n",
    "    \n",
    "    # Define likelihood\n",
    "    likelihood = pm.Normal('y', mu=intercept + slope * x, \n",
    "                        sigma=sigma, observed=y)\n",
    "    \n",
    "    # Inference!\n",
    "    trace = pm.sample(3000, cores=2, tune=2000) # draw 3000 posterior samples using NUTS sampling"
   ]
  },
  {
   "cell_type": "code",
   "execution_count": null,
   "metadata": {
    "slideshow": {
     "slide_type": "slide"
    }
   },
   "outputs": [],
   "source": [
    "axes=pm.traceplot(trace[100:],figsize=(12, 7));"
   ]
  },
  {
   "cell_type": "code",
   "execution_count": null,
   "metadata": {
    "slideshow": {
     "slide_type": "slide"
    }
   },
   "outputs": [],
   "source": [
    "plt.figure(figsize=(7, 7))\n",
    "plt.plot(x, y, 'rx', label='data')\n",
    "generating_fun = lambda x, sample: sample['Intercept'] + sample['slope'] * x\n",
    "pm.plot_posterior_predictive_glm(trace, lm=generating_fun, samples=100, \n",
    "                              label='posterior predictive regression lines')\n",
    "plt.plot(x, true_regression_line, label='true regression line', lw=3., c='y')\n",
    "\n",
    "plt.title('Posterior predictive regression lines')\n",
    "plt.legend(loc=0)\n",
    "plt.xlabel('x')\n",
    "plt.ylabel('y');"
   ]
  },
  {
   "cell_type": "markdown",
   "metadata": {
    "slideshow": {
     "slide_type": "slide"
    }
   },
   "source": [
    "## Well, that seemed complicated -- but worth it?\n",
    "\n",
    "Advantages:\n",
    "\n",
    "1. Estimate of $\\sigma$\n",
    "\n",
    "1. Distributions instead of single numbers for $\\theta_0$ and $\\theta_1$\n",
    "\n",
    "1. Actual (Bayesian) uncertainty estimates for all three parameters\n",
    "\n",
    "1. We can check the model against new data (\"posterior predictive checks\")\n",
    "\n",
    "1. Flexible approach generalizes to any generating function we can write in \n",
    "   terms of distributions.\n",
    "   \n",
    "   1. Example:  [Robust regression](https://docs.pymc.io/notebooks/GLM-robust.html)\n",
    "\n",
    "   1. Example: [Robust correlation](https://baezortega.github.io/2018/05/28/robust-correlation/)\n",
    "   \n",
    "   1. Example: [the pymc3 gallery](https://docs.pymc.io/nb_examples/index.html)"
   ]
  },
  {
   "cell_type": "markdown",
   "metadata": {
    "slideshow": {
     "slide_type": "slide"
    }
   },
   "source": [
    "## Bottom line\n",
    "\n",
    "* Frequentists -- data-oriented, controlled clinical trials with preregistration, lab scientists\n",
    "  - all about the sample space\n",
    "  \n",
    "* Bayesians -- more model oriented, often interested in parameter estimation, understanding the \n",
    "  data generating process (i.e., our tribe for many in EOAS)\n",
    "  \n",
    "* All of this is distinct from null hypothesis testing/p-values/Bayes factors, which\n",
    "  when used naively have created replication issues in some research communities.\n",
    "  Pithy summary from Gelman: [The difference between significant and insignificant is not statistcially significant](http://www.stat.columbia.edu/~gelman/research/published/signif4.pdf)\n",
    "\n",
    "* In 1983 I needed [Hierarchical Bayesian Regression](https://docs.pymc.io/notebooks/GLM-hierarchical.html), I was too early by about a decade.\n",
    "\n",
    "* Bayesian updating via Bayes rule, and the logical/subjective interpretation of probability is closely connected to machine learning"
   ]
  },
  {
   "cell_type": "markdown",
   "metadata": {
    "slideshow": {
     "slide_type": "slide"
    }
   },
   "source": [
    "## Coda:  An example of the debate on Bayesian model comparison\n",
    "\n",
    "* [To Bayes or not to Bayes](https://www.dropbox.com/s/3vw85dkr506yxag/to_bayes_or_not.pdf?dl=0) -- Scales and Sneider (1997)\n",
    "\n",
    "* [Gelman and Shalizi's answer to those issues](http://www.stat.columbia.edu/~gelman/research/published/philosophy.pdf) -- posterior predictive checking\n"
   ]
  },
  {
   "cell_type": "markdown",
   "metadata": {
    "slideshow": {
     "slide_type": "slide"
    }
   },
   "source": [
    "## Further reading -- all books available online through the UBC library\n",
    "\n",
    "* [Statistical rethinking](https://www.oreilly.com/library/view/statistical-rethinking/9781482253481/?ar)\n",
    " \n",
    "  - Great read by the Richard McElreath, director of the Max Planck Institute for Evolutionary Anthropology -- well written and very accessible -- nice treatment on the connection between statistics and information theory\n",
    "  \n",
    "  - [SR and other python source code for stats texts](https://github.com/pymc-devs/resources)\n",
    "\n",
    "* [Statistics, data mining and machine learning in astronomy](https://www.degruyter.com/viewbooktoc/product/459330)\n",
    "\n",
    "  - Lots of pertinent examples from 4 astronomers -- closely related to our typical research problems\n",
    "  \n",
    "  - [SDMLA github repository](https://github.com/astroML/astroML)\n",
    "  \n",
    "  - Related article by one of the co-authors:\n",
    "  \n",
    "    - [Frequentism and Bayesianism: A python-driven primer, Jake Vanderplas 2014](https://arxiv.org/pdf/1411.5018.pdf)\n",
    "\n",
    "* [Bayesian analysis with python](http://gw2jh3xr2c.search.serialssolutions.com/?sid=sersol&SS_jc=TC_034362911&title=Bayesian%20Analysis%20with%20Python%20-%20Second%20Edition)\n",
    "\n",
    "  - Best intro to pymc3\n",
    "\n",
    "  - [BAP source code](https://github.com/aloctavodia/BAP)\n",
    "\n",
    "* [Hogg et al. Fitting a model to data](https://arxiv.org/abs/1008.4686)  -- motivation for the regression example in this talk -- read the footnotes\n",
    "\n",
    "* [Hogg et al. on conditional probability](https://arxiv.org/pdf/1205.4446v1.pdf) -- pdfs have units!\n",
    "\n",
    "* [Gelman's blog](https://statmodeling.stat.columbia.edu/)  -- [a representative post](https://statmodeling.stat.columbia.edu/2015/01/27/perhaps-merely-accident-history-skeptics-subjectivists-alike-strain-gnat-prior-distribution-swallowing-camel-likelihood/\n",
    ")\n",
    "\n",
    "* [David Hogg's blog](http://hoggresearch.blogspot.com/) -- [a representative post](http://hoggresearch.blogspot.com/2019/09/how-to-model-empirical-abundance-space.html)"
   ]
  },
  {
   "cell_type": "code",
   "execution_count": null,
   "metadata": {},
   "outputs": [],
   "source": []
  }
 ],
 "metadata": {
  "celltoolbar": "Slideshow",
  "jupytext": {
   "cell_metadata_filter": "all",
   "encoding": "# -*- coding: utf-8 -*-",
   "formats": "ipynb,py:percent",
   "notebook_metadata_filter": "all,-language_info,-toc,-latex_envs"
  },
  "kernelspec": {
   "display_name": "Python 3",
   "language": "python",
   "name": "python3"
  },
  "language_info": {
   "codemirror_mode": {
    "name": "ipython",
    "version": 3
   },
   "file_extension": ".py",
   "mimetype": "text/x-python",
   "name": "python",
   "nbconvert_exporter": "python",
   "pygments_lexer": "ipython3",
   "version": "3.7.6"
  },
  "latex_envs": {
   "LaTeX_envs_menu_present": true,
   "autoclose": false,
   "autocomplete": true,
   "bibliofile": "biblio.bib",
   "cite_by": "apalike",
   "current_citInitial": 1,
   "eqLabelWithNumbers": true,
   "eqNumInitial": 1,
   "hotkeys": {
    "equation": "meta-9"
   },
   "labels_anchors": false,
   "latex_user_defs": false,
   "report_style_numbering": false,
   "user_envs_cfg": false
  },
  "toc": {
   "base_numbering": 1,
   "nav_menu": {},
   "number_sections": false,
   "sideBar": true,
   "skip_h1_title": false,
   "title_cell": "Table of Contents",
   "title_sidebar": "Contents",
   "toc_cell": false,
   "toc_position": {
    "height": "calc(100% - 180px)",
    "left": "10px",
    "top": "150px",
    "width": "165px"
   },
   "toc_section_display": true,
   "toc_window_display": false
  }
 },
 "nbformat": 4,
 "nbformat_minor": 2
}
